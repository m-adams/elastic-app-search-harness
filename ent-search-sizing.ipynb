{
 "cells": [
  {
   "cell_type": "code",
   "execution_count": null,
   "metadata": {},
   "outputs": [],
   "source": [
    "# This script is designed to do somee simple tests for Enterprise Search using Elastic Cloud\n",
    "# It will use the Elastic Cloud CLI. Please asetup as per the docs\n",
    "# https://www.elastic.co/guide/en/ecctl/current/index.html\n",
    "# on Mac use\n",
    "# brew tap elastic/tap\n",
    "# brew install elastic/tap/ecctl\n",
    "# ecctl init \n",
    "# Need to add the App Search specific python client\n",
    "# python -m pip install elastic-app-search\n"
   ]
  },
  {
   "cell_type": "code",
   "execution_count": null,
   "metadata": {},
   "outputs": [],
   "source": [
    "\n",
    "engine_name = \"sizing\"\n",
    "cluster_info_path= \"./cluster-info.json\"\n"
   ]
  },
  {
   "cell_type": "code",
   "execution_count": null,
   "metadata": {},
   "outputs": [],
   "source": [
    "import os\n",
    "import json\n",
    "import time\n",
    "import requests\n",
    "import subprocess\n",
    "from requests.auth import HTTPBasicAuth\n",
    "from urllib.parse import urljoin\n",
    "from elastic_app_search import Client"
   ]
  },
  {
   "cell_type": "code",
   "execution_count": null,
   "metadata": {},
   "outputs": [],
   "source": [
    "# So there is currently a bug in ecctl which should be fixed soon.\n",
    "# until then please run the command directly in the terminal to create the file.\n",
    "# when the issue is fixed we can reuse this code\n",
    "#\n",
    "# ecctl deployment create -f ./deployment-config.json > cluster-info.json\n",
    "\n",
    "#print(\"Checking if the cluster is already created\")\n",
    "#if not(os.path.exists(cluster_info_path) and os.path.getsize(cluster_info_path)>0):\n",
    "#    print(\"No cluster info file so lets create a new cluster in cloud\")\n",
    "#    info_file=open(cluster_info_path,\"w+\")\n",
    "#    out = subprocess.run(args=['ecctl', 'deployment', 'create', '-f ./deployment-config.json'], \n",
    "#           stdout=info_file, \n",
    "#           stderr=subprocess.STDOUT)\n",
    "#    stdout,stderr = out.communicate()\n",
    "#    print(stdout,stderr)\n",
    "        "
   ]
  },
  {
   "cell_type": "code",
   "execution_count": null,
   "metadata": {},
   "outputs": [],
   "source": [
    "\n",
    "print(\"Reading cluster info file: \",cluster_info_path)\n",
    "with open(cluster_info_path) as json_file:\n",
    "    cluster_info = json.load(json_file)\n",
    "    deployment_name = cluster_info['name']\n",
    "    #print(\"Cluster name: \",deployment_name)\n",
    "    deployment_id = cluster_info['id']\n",
    "    #print(\"Cluster ID: \",deployment_id)\n",
    "    cloud_id = cluster_info['resources'][0]['cloud_id']\n",
    "    #print(\"CloudID: \",cloud_id)\n",
    "    elastic_password = cluster_info['resources'][0]['credentials']['password']\n",
    "    #print(\"elastiic password: \",elastic_password)\n",
    "    cluster_exists = True"
   ]
  },
  {
   "cell_type": "code",
   "execution_count": null,
   "metadata": {},
   "outputs": [],
   "source": [
    "# To get the endpoints for App Search, Elasticsearch etc we need to run a second command\n",
    "# This will get all the details of the cluster and return json\n",
    "out = subprocess.run(['ecctl', 'deployment', 'show', deployment_id], \n",
    "           stdout=subprocess.PIPE, \n",
    "           stderr=subprocess.STDOUT)\n",
    "cluster_details = json.loads(out.stdout)"
   ]
  },
  {
   "cell_type": "code",
   "execution_count": null,
   "metadata": {},
   "outputs": [],
   "source": [
    "# Now we can extract any details we need\n",
    "as_endpoint = cluster_details['resources']['enterprise_search'][0]['info']['metadata']['endpoint']\n",
    "#print('App Search endpoint: ',as_endpoint)\n",
    "es_endpoint = cluster_details['resources']['elasticsearch'][0]['info']['metadata']['endpoint']\n",
    "#print('Elasticsearch endpoint: ',es_endpoint)\n",
    "\n"
   ]
  },
  {
   "cell_type": "code",
   "execution_count": null,
   "metadata": {},
   "outputs": [],
   "source": [
    "# The App Search Client needs an API key so we will need to call the API directly using basic auth to generate a key\n",
    "\n",
    "# The only way to get this atm is through an undocumented API\n",
    "create_key_url = urljoin(\"https://\"+as_endpoint, '/as/credentials/collection?page[current]=1')\n",
    "#print(create_key_url)\n",
    "response =requests.get(create_key_url, auth=('elastic', elastic_password))\n",
    "#print(response)\n",
    "api_key_info = response.json()\n",
    "for key in api_key_info['results']:\n",
    "    if key['type'] == \"private\":\n",
    "        private_key = key['key']\n",
    "        #print(\"Private key: \",private_key)\n",
    "    elif key['type'] == \"search\":\n",
    "        search_key = key['key']\n",
    "        #print(\"Search key: \",search_key)\n",
    "#as_client = Client("
   ]
  },
  {
   "cell_type": "code",
   "execution_count": null,
   "metadata": {},
   "outputs": [],
   "source": [
    "# The App Search client need s base endpoint which included the API path \n",
    "base_endpoint = as_endpoint+'/api/as/v1'\n",
    "as_client = Client(\n",
    "    base_endpoint=base_endpoint,\n",
    "    api_key=private_key\n",
    ")"
   ]
  },
  {
   "cell_type": "code",
   "execution_count": null,
   "metadata": {},
   "outputs": [],
   "source": [
    "as_client.create_engine(engine_name, 'en')"
   ]
  },
  {
   "cell_type": "code",
   "execution_count": null,
   "metadata": {},
   "outputs": [],
   "source": [
    "# Lets do a simple ingest and query before we delete the enging\n",
    "\n",
    "documents = [\n",
    "    {\n",
    "      'id': 'INscMGmhmX4',\n",
    "      'url': 'https://www.youtube.com/watch?v=INscMGmhmX4',\n",
    "      'title': 'The Original Grumpy Cat',\n",
    "      'body': 'A wonderful video of a magnificent cat.'\n",
    "    },\n",
    "    {\n",
    "      'id': 'JNDFojsd02',\n",
    "      'url': 'https://www.youtube.com/watch?v=dQw4w9WgXcQ',\n",
    "      'title': 'Another Grumpy Cat',\n",
    "      'body': 'A great video of another cool cat.'\n",
    "    }\n",
    "]\n",
    "\n",
    "as_client.index_documents(engine_name, documents)"
   ]
  },
  {
   "cell_type": "code",
   "execution_count": null,
   "metadata": {},
   "outputs": [],
   "source": [
    "# Lets search for something\n",
    "as_client.search(engine_name, 'grumpy cat', {})"
   ]
  },
  {
   "cell_type": "code",
   "execution_count": null,
   "metadata": {},
   "outputs": [],
   "source": [
    "# Now let's destroy the engine\n"
   ]
  }
 ],
 "metadata": {
  "kernelspec": {
   "display_name": "Python 3",
   "language": "python",
   "name": "python3"
  },
  "language_info": {
   "codemirror_mode": {
    "name": "ipython",
    "version": 3
   },
   "file_extension": ".py",
   "mimetype": "text/x-python",
   "name": "python",
   "nbconvert_exporter": "python",
   "pygments_lexer": "ipython3",
   "version": "3.7.0"
  }
 },
 "nbformat": 4,
 "nbformat_minor": 2
}
